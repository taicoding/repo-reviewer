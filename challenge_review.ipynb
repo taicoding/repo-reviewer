{
 "cells": [
  {
   "cell_type": "code",
   "execution_count": null,
   "id": "04aec488",
   "metadata": {},
   "outputs": [],
   "source": [
    "from repo_checker import *\n",
    "from issue_formater import *\n",
    "from script_review import *"
   ]
  },
  {
   "cell_type": "code",
   "execution_count": null,
   "id": "8aad9d5a",
   "metadata": {},
   "outputs": [],
   "source": [
    "import pandas as pd"
   ]
  },
  {
   "cell_type": "code",
   "execution_count": null,
   "id": "2e66c857",
   "metadata": {},
   "outputs": [],
   "source": [
    "challenges_data = load_challenges(\"retos_data.json\")"
   ]
  },
  {
   "cell_type": "code",
   "execution_count": null,
   "id": "f06688ae",
   "metadata": {},
   "outputs": [],
   "source": [
    "df_repos = pd.read_csv(\"data/students.csv\")"
   ]
  },
  {
   "cell_type": "code",
   "execution_count": null,
   "id": "ef793349",
   "metadata": {},
   "outputs": [],
   "source": [
    "test_file_path = \"test_data.json\"\n",
    "test_file = load_tests(test_file_path) "
   ]
  },
  {
   "cell_type": "code",
   "execution_count": null,
   "id": "5ec93418",
   "metadata": {},
   "outputs": [],
   "source": [
    "template_path = \"templates/oop_retos.md\""
   ]
  },
  {
   "cell_type": "code",
   "execution_count": null,
   "id": "cd152997",
   "metadata": {},
   "outputs": [],
   "source": [
    "parent_repo = \"python-la-paz/psg-retos\""
   ]
  },
  {
   "cell_type": "code",
   "execution_count": null,
   "id": "6efeda6e",
   "metadata": {},
   "outputs": [],
   "source": [
    "for index, row in df_repos.iterrows():\n",
    "    owner, repo_name, url = format_url(row[\"url\"])\n",
    "    print(f\"Reviewing: {owner}/{repo_name}\")\n",
    "    repo = get_repo(owner, repo_name)\n",
    "    fork_status = check_fork(repo, parent_repo)\n",
    "    branch_status = check_branch_exists(repo, owner)\n",
    "    activity_status = check_activity(repo, owner)\n",
    "    no_code_status = [fork_status, branch_status, activity_status]\n",
    "    for challenge in challenges_data:\n",
    "        issue_title = challenge[\"title\"]\n",
    "        file_paths = challenge[\"paths\"]\n",
    "        max_date = challenge[\"max_date\"]\n",
    "        \n",
    "        files_status = []\n",
    "        code_review = []\n",
    "        dates_review = []\n",
    "        try:\n",
    "            if not check_issue_exists(repo, issue_title):\n",
    "                for path in file_paths:\n",
    "                    status = check_file_exists(repo, path, branch=owner)\n",
    "                    code = get_code_from_file(repo, path, branch=owner) if status else \"\"\n",
    "                    files_status.append(status)\n",
    "                    test = [t for t in test_file if t['file'] == path][0]\n",
    "                    if status:\n",
    "                        dates_review.append(check_commit_dates(repo, path, max_date, branch=owner))\n",
    "                        \n",
    "                    else:\n",
    "                        dates_review.append(False)\n",
    "                    code_review.append(run_tests(code, test))\n",
    "                \n",
    "        except Exception as e:\n",
    "            print(f\"Error processing {issue_title}: {e}\")\n",
    "        issue_body = summary_code_review(owner,files_status,dates_review,no_code_status,code_review,challenge,template_path)\n",
    "        with open(f\"reviews/{owner}_review.md\", \"w\", encoding=\"utf-8\") as f:\n",
    "            f.write(issue_body)"
   ]
  }
 ],
 "metadata": {
  "kernelspec": {
   "display_name": "Python 3",
   "language": "python",
   "name": "python3"
  },
  "language_info": {
   "codemirror_mode": {
    "name": "ipython",
    "version": 3
   },
   "file_extension": ".py",
   "mimetype": "text/x-python",
   "name": "python",
   "nbconvert_exporter": "python",
   "pygments_lexer": "ipython3",
   "version": "3.12.1"
  }
 },
 "nbformat": 4,
 "nbformat_minor": 5
}
