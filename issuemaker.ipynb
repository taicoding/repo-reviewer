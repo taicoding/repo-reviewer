{
 "cells": [
  {
   "cell_type": "code",
   "execution_count": null,
   "id": "04aec488",
   "metadata": {},
   "outputs": [],
   "source": [
    "import os\n",
    "import requests\n",
    "import pandas as pd\n",
    "from urllib.parse import urlparse\n",
    "from dotenv import load_dotenv\n",
    "from datetime import datetime\n",
    "import json"
   ]
  },
  {
   "cell_type": "code",
   "execution_count": null,
   "id": "868a703a",
   "metadata": {},
   "outputs": [],
   "source": [
    "load_dotenv()\n",
    "GITHUB_TOKEN = os.getenv(\"GITHUB_TOKEN\")\n",
    "HEADERS = {\"Authorization\": f\"token {GITHUB_TOKEN}\"}"
   ]
  },
  {
   "cell_type": "code",
   "execution_count": null,
   "id": "7213f19f",
   "metadata": {},
   "outputs": [],
   "source": [
    "def extract_owner_repo(repo_url):\n",
    "    parts = urlparse(repo_url).path.strip(\"/\").split(\"/\")\n",
    "    return parts[0], parts[1]"
   ]
  },
  {
   "cell_type": "code",
   "execution_count": null,
   "id": "b19a1131",
   "metadata": {},
   "outputs": [],
   "source": [
    "def check_file_exists(owner, repo, path):\n",
    "    url = f\"https://api.github.com/repos/{owner}/{repo}/contents/{path}\"\n",
    "    response = requests.get(url, headers=HEADERS)\n",
    "    return response.status_code == 200"
   ]
  },
  {
   "cell_type": "code",
   "execution_count": null,
   "id": "0f65f484",
   "metadata": {},
   "outputs": [],
   "source": [
    "def check_commit_dates(owner, repo, path, max_date):\n",
    "    url = f\"https://api.github.com/repos/{owner}/{repo}/commits\"\n",
    "    params = {\"path\": path, \"per_page\": 100}\n",
    "    response = requests.get(url, headers=HEADERS, params=params)\n",
    "    if response.status_code != 200:\n",
    "        print(f\"Error: {response.status_code} - {response.text}\")\n",
    "        return None\n",
    "\n",
    "    commits = response.json()\n",
    "\n",
    "    if not commits:\n",
    "        return 0\n",
    "    last_commit = commits[-1]\n",
    "    file_date = datetime.fromisoformat(last_commit[\"commit\"][\"committer\"][\"date\"])\n",
    "    \n",
    "    if file_date.date() <= max_date.date():\n",
    "        return 1\n",
    "    return -1"
   ]
  },
  {
   "cell_type": "code",
   "execution_count": null,
   "id": "4ba28144",
   "metadata": {},
   "outputs": [],
   "source": [
    "def load_template(template_path):\n",
    "    with open(template_path, \"r\", encoding=\"utf-8\") as f:\n",
    "        return f.read()"
   ]
  },
  {
   "cell_type": "code",
   "execution_count": null,
   "id": "0abf8b8e",
   "metadata": {},
   "outputs": [],
   "source": [
    "def fill_template(template, data):\n",
    "    return template.format(**data)"
   ]
  },
  {
   "cell_type": "code",
   "execution_count": null,
   "id": "217eec8a",
   "metadata": {},
   "outputs": [],
   "source": [
    "def summary_preview(missing_files, expected_files, file_dates, template_path):\n",
    "    template_data={}\n",
    "    missing_count = len(missing_files)\n",
    "    template_data['missing_files'] = missing_count\n",
    "    files_in_format = expected_files - missing_count\n",
    "    template_data['files_in_format'] = files_in_format\n",
    "    folder_format = \"✅ Correcta\"\n",
    "    delivery_status = \"✅\"\n",
    "    if files_in_format == 0:\n",
    "        folder_format = \"❌ No se encontró los retos\"\n",
    "    if files_in_format > 0 and files_in_format < expected_files:\n",
    "        folder_format = \"⚠️ No se encontró algunos retos\"\n",
    "    template_data['folder_format'] = folder_format\n",
    "    check_delivery_status = sum(file_dates)\n",
    "    if check_delivery_status == 0:\n",
    "        delivery_status = \"❌ Incumplido\"\n",
    "    delivery_status = \"⚠️ Observado por archivos fuera de fecha.\"\n",
    "    template_data[\"delivery_status\"] = delivery_status\n",
    "    status = \"Revision pendiente\"\n",
    "    template_data[\"status\"] = status\n",
    "    comment = \"\"\n",
    "    template_data[\"comment\"] = comment\n",
    "    \n",
    "    final_message = \"Aún no concluimos la revisión 😅 Gracias por tu paciencia.\"\n",
    "    template_data[\"final_message\"] = final_message\n",
    "    template = load_template(template_path)\n",
    "    issue_content = fill_template(template, template_data)\n",
    "    \n",
    "    return issue_content \n",
    "    "
   ]
  },
  {
   "cell_type": "code",
   "execution_count": null,
   "id": "61f55620",
   "metadata": {},
   "outputs": [],
   "source": [
    "def check_issue_exists(owner, repo, issue_title, state=\"open\"):\n",
    "    url = f\"https://api.github.com/repos/{owner}/{repo}/issues\"\n",
    "    params = {\"state\": state, \"per_page\": 100}\n",
    "    response = requests.get(url, headers=HEADERS, params=params)\n",
    "\n",
    "    if response.status_code != 200:\n",
    "        print(f\"Error: {response.status_code} - {response.text}\")\n",
    "        return False\n",
    "\n",
    "    issues = response.json()\n",
    "\n",
    "    for issue in issues:\n",
    "        if issue[\"title\"].strip() == issue_title.strip():\n",
    "            return True\n",
    "\n",
    "    return False"
   ]
  },
  {
   "cell_type": "code",
   "execution_count": null,
   "id": "dcd6b9f5",
   "metadata": {},
   "outputs": [],
   "source": [
    "def create_issue(owner, repo, body, title):\n",
    "    url = f\"https://api.github.com/repos/{owner}/{repo}/issues\"\n",
    "    payload = {\"title\": title, \"body\": body}\n",
    "    response = requests.post(url, headers=HEADERS, json=payload)\n",
    "    if response.status_code == 201:\n",
    "        print(f\"Issue creado en {owner}/{repo}\")\n",
    "    else:\n",
    "        print(f\"Error al crear issue en {owner}/{repo}: {response.status_code} - {response.text}\")\n"
   ]
  },
  {
   "cell_type": "code",
   "execution_count": null,
   "id": "c5b00d8f",
   "metadata": {},
   "outputs": [],
   "source": [
    "with open(\"retos_data.json\", \"r\", encoding=\"utf-8\") as f:\n",
    "    load_retos_data = json.load(f)"
   ]
  },
  {
   "cell_type": "code",
   "execution_count": null,
   "id": "b46be532",
   "metadata": {},
   "outputs": [],
   "source": [
    "repo_url = \"https://github.com/taicoding/psg-example\""
   ]
  },
  {
   "cell_type": "code",
   "execution_count": null,
   "id": "6efeda6e",
   "metadata": {},
   "outputs": [],
   "source": [
    "owner, repo = extract_owner_repo(repo_url)\n",
    "print(f\"Revisando: {owner}/{repo}\")\n",
    "for e in load_retos_data:\n",
    "    issue_title = e[\"title\"]\n",
    "    file_paths = e[\"paths\"]\n",
    "    expected_files = e[\"expected_files\"]\n",
    "    max_date = e[\"max_date\"]\n",
    "    template_path = e[\"template\"]\n",
    "    missing_files = []\n",
    "    dates_review = []\n",
    "    if not check_issue_exists(owner, repo, issue_title):\n",
    "        for path in file_paths:\n",
    "            if not check_file_exists(owner, repo, path):\n",
    "                missing_files.append(path)\n",
    "            else:\n",
    "                dates_review.append(check_commit_dates(owner, repo, path, max_date))\n",
    "            \n",
    "        issue_body = summary_preview(missing_files, expected_files, dates_review, template_path)\n",
    "        create_issue(owner, repo, issue_body, issue_title)"
   ]
  },
  {
   "cell_type": "code",
   "execution_count": null,
   "id": "57eb5580",
   "metadata": {},
   "outputs": [],
   "source": []
  }
 ],
 "metadata": {
  "kernelspec": {
   "display_name": "Python 3",
   "language": "python",
   "name": "python3"
  },
  "language_info": {
   "codemirror_mode": {
    "name": "ipython",
    "version": 3
   },
   "file_extension": ".py",
   "mimetype": "text/x-python",
   "name": "python",
   "nbconvert_exporter": "python",
   "pygments_lexer": "ipython3",
   "version": "3.12.1"
  }
 },
 "nbformat": 4,
 "nbformat_minor": 5
}
