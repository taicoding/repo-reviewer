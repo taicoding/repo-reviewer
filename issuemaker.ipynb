{
 "cells": [
  {
   "cell_type": "code",
   "execution_count": null,
   "id": "04aec488",
   "metadata": {},
   "outputs": [],
   "source": [
    "from repo_checker import *\n",
    "from issue_formater import *\n",
    "import pandas as pd"
   ]
  },
  {
   "cell_type": "code",
   "execution_count": null,
   "id": "2e66c857",
   "metadata": {},
   "outputs": [],
   "source": [
    "challenges_data = load_challenges(\"retos_data.json\")"
   ]
  },
  {
   "cell_type": "code",
   "execution_count": null,
   "id": "a0edca52",
   "metadata": {},
   "outputs": [],
   "source": [
    "challenges_data"
   ]
  },
  {
   "cell_type": "code",
   "execution_count": null,
   "id": "47bb6f3c",
   "metadata": {},
   "outputs": [],
   "source": [
    "df_repos = pd.read_csv(\"data/students.csv\")"
   ]
  },
  {
   "cell_type": "code",
   "execution_count": null,
   "id": "6efeda6e",
   "metadata": {},
   "outputs": [],
   "source": [
    "for index, row in df_repos.iterrows():\n",
    "    owner, repo, url = format_url(row[\"url\"])\n",
    "    print(f\"Reviewing: {owner}/{repo}\")\n",
    "    for challenge in challenges_data:\n",
    "        issue_title = challenge[\"title\"]\n",
    "        file_paths = challenge[\"paths\"]\n",
    "        max_date = challenge[\"max_date\"]\n",
    "        files_status = []\n",
    "        dates_review = []\n",
    "        if not check_issue_exists(url, issue_title):\n",
    "            for path in file_paths:\n",
    "                status = check_file_exists(url, path)\n",
    "                files_status.append(status)\n",
    "                if status:\n",
    "                    dates_review.append(check_commit_dates(url, path, max_date))\n",
    "                else:\n",
    "                    dates_review.append(False)\n",
    "            issue_body = summary_preview(files_status, dates_review, challenge)\n",
    "            create_issue(url,owner, repo, issue_body, issue_title)"
   ]
  }
 ],
 "metadata": {
  "kernelspec": {
   "display_name": "Python 3",
   "language": "python",
   "name": "python3"
  },
  "language_info": {
   "codemirror_mode": {
    "name": "ipython",
    "version": 3
   },
   "file_extension": ".py",
   "mimetype": "text/x-python",
   "name": "python",
   "nbconvert_exporter": "python",
   "pygments_lexer": "ipython3",
   "version": "3.12.1"
  }
 },
 "nbformat": 4,
 "nbformat_minor": 5
}
